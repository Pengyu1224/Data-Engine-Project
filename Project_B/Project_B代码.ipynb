{
 "cells": [
  {
   "cell_type": "code",
   "execution_count": 3,
   "metadata": {},
   "outputs": [
    {
     "name": "stdout",
     "output_type": "stream",
     "text": [
      "频繁项集： {1: {('挡泥板',): 2110, ('头盔',): 5960, ('旅行自行车',): 2143, ('山地自行车',): 4089, ('骑行服',): 3192, ('车胎和内胎',): 8490, ('水壶和水壶架',): 4548, ('帽子',): 2132, ('公路自行车',): 6397, ('手套',): 1376, ('袜子',): 559, ('短裤',): 1019, ('水袋背包',): 719, ('清洁剂',): 875, ('背心',): 557}, 2: {('头盔', '山地自行车'): 1388, ('头盔', '挡泥板'): 742, ('头盔', '旅行自行车'): 1058, ('头盔', '车胎和内胎'): 2921, ('头盔', '骑行服'): 923, ('山地自行车', '挡泥板'): 898, ('山地自行车', '旅行自行车'): 1246, ('山地自行车', '车胎和内胎'): 1107, ('山地自行车', '骑行服'): 679, ('挡泥板', '车胎和内胎'): 723, ('车胎和内胎', '骑行服'): 1150, ('公路自行车', '头盔'): 2051, ('公路自行车', '山地自行车'): 2053, ('公路自行车', '帽子'): 673, ('公路自行车', '水壶和水壶架'): 1590, ('公路自行车', '骑行服'): 1154, ('头盔', '帽子'): 678, ('头盔', '水壶和水壶架'): 1453, ('山地自行车', '水壶和水壶架'): 1246, ('帽子', '水壶和水壶架'): 746, ('帽子', '骑行服'): 689, ('水壶和水壶架', '骑行服'): 774, ('帽子', '车胎和内胎'): 760, ('旅行自行车', '水壶和水壶架'): 780, ('水壶和水壶架', '车胎和内胎'): 812, ('头盔', '手套'): 687, ('手套', '车胎和内胎'): 677, ('公路自行车', '车胎和内胎'): 1450}, 3: {('头盔', '山地自行车', '旅行自行车'): 677, ('公路自行车', '头盔', '山地自行车'): 726, ('公路自行车', '山地自行车', '水壶和水壶架'): 629, ('公路自行车', '山地自行车', '车胎和内胎'): 580}}\n",
      "\n",
      "关联规则:  [{旅行自行车} -> {山地自行车}, {山地自行车} -> {公路自行车}, {山地自行车, 旅行自行车} -> {头盔}, {头盔, 旅行自行车} -> {山地自行车}, {头盔, 山地自行车} -> {公路自行车}, {山地自行车, 水壶和水壶架} -> {公路自行车}, {山地自行车, 车胎和内胎} -> {公路自行车}]\n"
     ]
    }
   ],
   "source": [
    "#####B项目：产品关联分析 工号：15785 姓名：彭宇 #####\n",
    "from efficient_apriori import apriori\n",
    "import pandas as pd\n",
    "#数据读取\n",
    "dataset = pd.read_csv('订单表.csv',encoding='gbk')\n",
    "# 对数据进行处理，将订单id作为index, 取产品名称的值得到一维数组orders_series，并且按照订单id进行升序排序\n",
    "orders_series = dataset.set_index('客户ID')['产品名称'].sort_index(ascending=True)\n",
    "#将数据集进行格式转换,遍历数据将每笔订单集合保存保存到transaction\n",
    "transactions = []\n",
    "temp_index = 0\n",
    "for i, v in orders_series.items():\n",
    "\tif i != temp_index:\n",
    "\t\ttemp_set = set()\n",
    "\t\ttemp_index = i\n",
    "\t\ttemp_set.add(v)\n",
    "\t\ttransactions.append(temp_set)\n",
    "\telse:\n",
    "\t\ttemp_set.add(v)\n",
    "#使用Apriori得到该订单表的频繁项集和关联规则        \n",
    "itemsets, rules = apriori(transactions, min_support=0.03,  min_confidence=0.5)#取最小支持度为0.03，最小置信度为0.5\n",
    "print('频繁项集：',itemsets)\n",
    "print('\\n关联规则: ',rules)"
   ]
  },
  {
   "cell_type": "code",
   "execution_count": null,
   "metadata": {},
   "outputs": [],
   "source": []
  }
 ],
 "metadata": {
  "kernelspec": {
   "display_name": "Python 3",
   "language": "python",
   "name": "python3"
  },
  "language_info": {
   "codemirror_mode": {
    "name": "ipython",
    "version": 3
   },
   "file_extension": ".py",
   "mimetype": "text/x-python",
   "name": "python",
   "nbconvert_exporter": "python",
   "pygments_lexer": "ipython3",
   "version": "3.7.6"
  }
 },
 "nbformat": 4,
 "nbformat_minor": 4
}
