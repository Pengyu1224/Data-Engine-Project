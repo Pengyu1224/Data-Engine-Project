{
 "cells": [
  {
   "cell_type": "code",
   "execution_count": 4,
   "metadata": {},
   "outputs": [
    {
     "name": "stdout",
     "output_type": "stream",
     "text": [
      "            名称    最低价格    最高价格  \\\n",
      "0           探岳  18.59万  31.39万   \n",
      "1           途岳  16.58万  22.38万   \n",
      "2          途观L  21.88万  31.18万   \n",
      "3           途昂  29.99万  50.59万   \n",
      "4           途铠  11.49万  15.99万   \n",
      "5           探歌  13.58万  20.38万   \n",
      "6           探影  11.49万  15.99万   \n",
      "7           途观  19.48万  23.18万   \n",
      "8          探岳X  23.58万  29.58万   \n",
      "9          途昂X  28.99万  43.99万   \n",
      "10          途锐  56.98万  82.18万   \n",
      "11    途观L 插电混动  26.58万  32.58万   \n",
      "12  探岳GTE 插电混动  24.98万  25.98万   \n",
      "13      Tiguan  23.98万  35.08万   \n",
      "14     途锐 插电混动      暂无      暂无   \n",
      "\n",
      "                                               产品图片链接  \n",
      "0   http://img2.bitautoimg.com/autoalbum/files/201...  \n",
      "1   http://img2.bitautoimg.com/autoalbum/files/201...  \n",
      "2   http://img4.bitautoimg.com/autoalbum/files/201...  \n",
      "3   http://img3.bitautoimg.com/autoalbum/files/201...  \n",
      "4   http://img2.bitautoimg.com/autoalbum/files/201...  \n",
      "5   http://img4.bitautoimg.com/autoalbum/files/201...  \n",
      "6   http://img1.bitautoimg.com/autoalbum/files/201...  \n",
      "7   http://img1.bitautoimg.com/autoalbum/files/201...  \n",
      "8   http://img1.bitautoimg.com/autoalbum/files/202...  \n",
      "9   http://img1.bitautoimg.com/autoalbum/files/201...  \n",
      "10  http://img3.bitautoimg.com/autoalbum/files/201...  \n",
      "11  http://img4.bitautoimg.com/autoalbum/files/201...  \n",
      "12  http://img3.bitautoimg.com/autoalbum/files/202...  \n",
      "13  http://img1.bitautoimg.com/autoalbum/files/201...  \n",
      "14  http://img4.bitautoimg.com/autoalbum/files/201...  \n"
     ]
    }
   ],
   "source": [
    "####A项目：爬取大众品牌汽车在易车网上的报价数据 工号：15785 姓名：彭宇 #####\n",
    "import requests\n",
    "from bs4 import BeautifulSoup\n",
    "import pandas as pd\n",
    "#得到页面内容\n",
    "def get_page_content(url):\n",
    "    headers = {'user-agent': 'Mozilla/5.0 (Windows NT 10.0; WOW64) AppleWebKit/537.36 (KHTML, like Gecko) Chrome/74.0.3729.131 Safari/537.36'}\n",
    "    html = requests.get(url,headers=headers,timeout=10)\n",
    "    content = html.text\n",
    "    #通过content创建BS对象\n",
    "    soup = BeautifulSoup(content,'html.parser')\n",
    "    return soup\n",
    "\n",
    "#分析页面所需内容并返回\n",
    "def analysis(soup):\n",
    "    #找到具备完整车型及报价的所有div类\n",
    "    item_list = soup.find_all('div',class_='search-result-list-item')\n",
    "    #创建DataFrame,对要爬取数据的各字段进行命名\n",
    "    df = pd.DataFrame(columns = ['名称', '最低价格', '最高价格', '产品图片链接'])\n",
    "    for item in item_list:\n",
    "        info = {}#空字典用于存放报价信息\n",
    "        car_model = item.find('p',class_='cx-name text-hover').text#提取车型名称\n",
    "        price = item.find('p',class_='cx-price').text#提取车型价格\n",
    "        if str(price) != '暂无':#判断是否暂无价格\n",
    "            price_list = price.split('-',1)#以'-'符号将价格分隔为最低与最高价格两个字符串\n",
    "            price_low = price_list[0] + '万'#最低价格，在价格数字后添加'万'字\n",
    "            price_high = price_list[1]#最高价格(包含末尾万字)\n",
    "        else:\n",
    "            price_high = '暂无'\n",
    "            price_low = '暂无'\n",
    "        basic_url='http:'#为图片链接准备前缀\n",
    "        img_url = basic_url + item.find('img',class_='img')['src']#提取图片链接并加上前缀\n",
    "        #将各项提取内容赋值到字典中\n",
    "        info['名称'], info['最低价格'], info['最高价格'], info['产品图片链接'] = \\\n",
    "            car_model, price_low, price_high, img_url\n",
    "        df = df.append(info,ignore_index=True)#将报价信息添加到Dataframe中\n",
    "        \n",
    "    return df#返回Dataframe\n",
    "#主函数\n",
    "if __name__==\"__main__\":\n",
    "    url = 'http://car.bitauto.com/xuanchegongju/?l=8&mid=8'#易车网大众界面网页链接\n",
    "    soup = get_page_content(url)#由链接获取页面内容\n",
    "    result = analysis(soup)#分析页面内容获取报价数据dataframe\n",
    "    print(result)\n",
    "    result.to_csv('大众品牌汽车报价数据.csv',index=False,encoding='utf_8_sig')#提取爬取数据保存为csv文件"
   ]
  },
  {
   "cell_type": "code",
   "execution_count": null,
   "metadata": {},
   "outputs": [],
   "source": []
  }
 ],
 "metadata": {
  "kernelspec": {
   "display_name": "Python 3",
   "language": "python",
   "name": "python3"
  },
  "language_info": {
   "codemirror_mode": {
    "name": "ipython",
    "version": 3
   },
   "file_extension": ".py",
   "mimetype": "text/x-python",
   "name": "python",
   "nbconvert_exporter": "python",
   "pygments_lexer": "ipython3",
   "version": "3.7.6"
  }
 },
 "nbformat": 4,
 "nbformat_minor": 4
}
